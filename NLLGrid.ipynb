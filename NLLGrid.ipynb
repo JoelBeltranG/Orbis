{
 "cells": [
  {
   "cell_type": "code",
   "execution_count": 1,
   "id": "6324afb2-ab70-41a0-88a2-960371b033de",
   "metadata": {},
   "outputs": [],
   "source": [
    "import numpy as np\n",
    "import matplotlib.pyplot as plt\n",
    "from nllgrid import NLLGrid\n",
    "import geopandas as gpd\n"
   ]
  },
  {
   "cell_type": "code",
   "execution_count": 2,
   "id": "8b9dc70f-6500-4aa2-94e9-3e466da16d44",
   "metadata": {},
   "outputs": [
    {
     "name": "stdout",
     "output_type": "stream",
     "text": [
      "EPSG:4326\n"
     ]
    }
   ],
   "source": [
    "# Cargar el shapefile\n",
    "gdf = gpd.read_file('extent.shp')\n",
    "\n",
    "# Verificar el sistema de coordenadas\n",
    "print(gdf.crs)"
   ]
  },
  {
   "cell_type": "code",
   "execution_count": 3,
   "id": "336fe457-9fd2-41a0-bc93-07b59e272b3a",
   "metadata": {},
   "outputs": [
    {
     "name": "stdout",
     "output_type": "stream",
     "text": [
      "Shapefile convertido a proyección Mercator.\n"
     ]
    }
   ],
   "source": [
    "# Verificar si la proyección es geográfica y convertir si es necesario\n",
    "if gdf.crs.is_geographic:\n",
    "    gdf = gdf.to_crs(epsg=3857)\n",
    "    print(\"Shapefile convertido a proyección Mercator.\")\n",
    "else:\n",
    "    print(\"El shapefile ya está en una proyección proyectada.\")"
   ]
  },
  {
   "cell_type": "code",
   "execution_count": 4,
   "id": "51b3276c-a23f-46f7-9ef2-613ea38a738e",
   "metadata": {},
   "outputs": [
    {
     "name": "stdout",
     "output_type": "stream",
     "text": [
      "minx: -11669823.762683755, miny: 3583642.4713136116\n",
      "Elementos en x: 218, Elementos en y: 255\n"
     ]
    }
   ],
   "source": [
    "# Obtener el bounding box (caja envolvente) del polígono\n",
    "polygon = gdf.geometry.iloc[0]\n",
    "minx, miny, maxx, maxy = polygon.bounds\n",
    "\n",
    "print(f\"minx: {minx}, miny: {miny}\")\n",
    "\n",
    "# Calcular el tamaño del rectángulo en metros\n",
    "length_x = maxx - minx\n",
    "length_y = maxy - miny\n",
    "\n",
    "# Calcular el número de elementos en x y en y\n",
    "elements_x = int(length_x // 1000)\n",
    "elements_y = int(length_y // 1000)\n",
    "\n",
    "max_elements = max(elements_x, elements_y)\n",
    "\n",
    "print(f\"Elementos en x: {elements_x}, Elementos en y: {elements_y}\")"
   ]
  },
  {
   "cell_type": "code",
   "execution_count": 5,
   "id": "47212f28-edf7-4737-ac6e-49e92f1be052",
   "metadata": {},
   "outputs": [
    {
     "data": {
      "text/plain": [
       "255"
      ]
     },
     "execution_count": 5,
     "metadata": {},
     "output_type": "execute_result"
    }
   ],
   "source": [
    "max_elements"
   ]
  },
  {
   "cell_type": "code",
   "execution_count": 6,
   "id": "bf359ed2-61e7-4e53-b501-0a27e8b87fde",
   "metadata": {},
   "outputs": [],
   "source": [
    "nx = max_elements\n",
    "ny = max_elements\n",
    "nz = max_elements   # Dimensiones de la cuadrícula\n",
    "x_orig, y_orig, z_orig = 0, 0, 0  # Origen de la cuadrícula\n",
    "dx, dy, dz = 1000, 1000, 1000  # Espaciado de la cuadrícula\n",
    "\n",
    "# Crear el objeto NLLGrid\n",
    "gridp = NLLGrid(\n",
    "    nx=nx, ny=ny, nz=nz,\n",
    "    dx=dx, dy=dy, dz=dz,\n",
    "    x_orig=x_orig, y_orig=y_orig, z_orig=z_orig\n",
    ")\n"
   ]
  },
  {
   "cell_type": "code",
   "execution_count": 9,
   "id": "dc908636-5972-4ce8-82f6-01f604a9d9fe",
   "metadata": {},
   "outputs": [],
   "source": [
    "# Definir los valores de Vs para las capas\n",
    "import numpy as np\n",
    "\n",
    "# Supongamos que tienes una instancia de NLLGrid llamada grid\n",
    "# Suponiendo que grid es una instancia de NLLGrid\n",
    "gridp = NLLGrid(nx=nx, ny=ny, nz=nz)  # Inicializa grid con los tamaños deseados\n",
    "gridp.init_array()  # Inicializa el array tridimensional con ceros\n",
    "\n",
    "\n",
    "vp_values = [5.5, 5.85, 6.5, 8.18]  # Ejemplo de valores Vs\n",
    "\n",
    "vs_values = [3.06,3.25, 3.61, 4.54]\n",
    "\n",
    "\n",
    "# Asignar directamente los espesores de cada capa\n",
    "layer_thickness = [5, 24, 10, 100]  # Espesor de cada capa en número de elementos en z\n",
    "\n",
    "# Verificar que el número de espesores coincida con el número de Vs values\n",
    "if len(layer_thickness) != len(vp_values):\n",
    "    raise ValueError(\"La longitud de layer_thickness debe coincidir con la de vs_values\")\n",
    "\n",
    "# Asignar valores de Vs a cada capa en la dirección z\n",
    "z_start = 0\n",
    "for i, vs in enumerate(vp_values):\n",
    "    z_end = z_start + layer_thickness[i]\n",
    "    gridp.array[:, :, z_start:z_end] = vs\n",
    "    z_start = z_end  # Actualizar z_start para la siguiente capa\n",
    "if z_end < nz:\n",
    "    gridp.array[:, :, z_end:] = vp_values[-1]"
   ]
  },
  {
   "cell_type": "code",
   "execution_count": 10,
   "id": "8d09c45c-67f9-4c33-9e7d-500ef92f0616",
   "metadata": {},
   "outputs": [],
   "source": [
    "\n",
    "grids = NLLGrid(nx=nx, ny=ny, nz=nz)  # Inicializa grid con los tamaños deseados\n",
    "grids.init_array()  # Inicializa el array tridimensional con ceros\n",
    "\n",
    "if len(layer_thickness) != len(vs_values):\n",
    "    raise ValueError(\"La longitud de layer_thickness debe coincidir con la de vs_values\")\n",
    "\n",
    "# Asignar valores de Vs a cada capa en la dirección z\n",
    "z_start = 0\n",
    "for i, vs in enumerate(vs_values):\n",
    "    z_end = z_start + layer_thickness[i]\n",
    "    grids.array[:, :, z_start:z_end] = vs\n",
    "    z_start = z_end  # Actualizar z_start para la siguiente capa\n",
    "if z_end < nz:\n",
    "    grids.array[:, :, z_end:] = vs_values[-1]"
   ]
  },
  {
   "cell_type": "code",
   "execution_count": 12,
   "id": "2a5694f7-a8ae-4418-a314-4fa8ea78857a",
   "metadata": {},
   "outputs": [
    {
     "data": {
      "image/png": "[encoded data removed]",
      "text/plain": [
       "<Figure size 640x480 with 2 Axes>"
      ]
     },
     "metadata": {},
     "output_type": "display_data"
    }
   ],
   "source": [
    "slice_index = ny // 2  # Tomar una rebanada en la mitad de la cuadrícula a lo largo del eje Y\n",
    "plt.imshow(gridp.array[:, slice_index, :].T, cmap='Greens', origin='upper', aspect='auto')\n",
    "plt.colorbar(label='Vs (m/s)')\n",
    "plt.title('Sección transversal de la cuadrícula (mitad en Y)')\n",
    "plt.xlabel('Eje X')\n",
    "plt.ylabel('Eje Z')\n",
    "plt.show()"
   ]
  },
  {
   "cell_type": "code",
   "execution_count": 13,
   "id": "08c6b428-3add-4193-aa44-15a5ef4dc932",
   "metadata": {},
   "outputs": [],
   "source": [
    "# Asegúrate de que el tipo flotante esté correctamente definido\n",
    "gridp.float_type = 'FLOAT'  # O 'DOUBLE' si prefieres precisión doble\n",
    "\n",
    "# Ahora guarda la cuadrícula en archivos .hdr y .buf\n",
    "gridp.basename = 'Vp_grid'\n",
    "gridp.write_hdr_file()\n",
    "gridp.write_buf_file()"
   ]
  },
  {
   "cell_type": "code",
   "execution_count": 14,
   "id": "0ea42e7b-623c-4e6d-963d-be3ae118d602",
   "metadata": {},
   "outputs": [
    {
     "name": "stdout",
     "output_type": "stream",
     "text": [
      "<class 'numpy.ndarray'>\n",
      "(255, 255, 255)\n"
     ]
    }
   ],
   "source": [
    "# Supongamos que tienes una instancia de NLLGrid llamada grid\n",
    "\n",
    "# Acceder directamente al array de NumPy\n",
    "new_velp = gridp.array\n",
    "new_vels = grids.array\n",
    "# Ahora numpy_array es un array de NumPy de 3 dimensiones\n",
    "print(type(new_velp))  # Debería mostrar <class 'numpy.ndarray'>\n",
    "print(new_velp.shape)  # Debería mostrar (270, 270, 270) si esa es la forma del grid"
   ]
  },
  {
   "cell_type": "code",
   "execution_count": 16,
   "id": "6a88b86c-28b9-47cd-bbfd-1a7d4068c804",
   "metadata": {},
   "outputs": [],
   "source": [
    "np.save('vp.npy', new_velp)\n",
    "np.save('vs.npy', new_vels)"
   ]
  },
  {
   "cell_type": "code",
   "execution_count": null,
   "id": "4fea3e0d-5938-4a73-b5a8-2e5043935420",
   "metadata": {},
   "outputs": [],
   "source": []
  },
  {
   "cell_type": "code",
   "execution_count": null,
   "id": "4f1d0fef-2ac2-4e04-8a88-d26c153f39df",
   "metadata": {},
   "outputs": [],
   "source": []
  }
 ],
 "metadata": {
  "kernelspec": {
   "display_name": "seisbench_joel",
   "language": "python",
   "name": "python3"
  },
  "language_info": {
   "codemirror_mode": {
    "name": "ipython",
    "version": 3
   },
   "file_extension": ".py",
   "mimetype": "text/x-python",
   "name": "python",
   "nbconvert_exporter": "python",
   "pygments_lexer": "ipython3",
   "version": "3.12.5"
  }
 },
 "nbformat": 4,
 "nbformat_minor": 5
}
