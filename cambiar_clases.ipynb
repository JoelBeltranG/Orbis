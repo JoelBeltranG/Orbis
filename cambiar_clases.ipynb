{
 "cells": [
  {
   "cell_type": "code",
   "execution_count": 32,
   "metadata": {},
   "outputs": [],
   "source": [
    "import seisbench.data as sbd\n",
    "import numpy as np\n",
    "import pandas as pd\n",
    "import matplotlib.pyplot as plt\n",
    "import geopandas as gpd\n"
   ]
  },
  {
   "cell_type": "code",
   "execution_count": 33,
   "metadata": {},
   "outputs": [],
   "source": [
    "metadatos = pd.read_csv(\"/Users/lamb/.seisbench/datasets/txed/metadata.csv\")"
   ]
  },
  {
   "cell_type": "code",
   "execution_count": 34,
   "metadata": {},
   "outputs": [],
   "source": [
    "metadatos.rename(columns={'id': 'ID_poligono'},inplace=True)"
   ]
  },
  {
   "cell_type": "code",
   "execution_count": 35,
   "metadata": {},
   "outputs": [
    {
     "data": {
      "text/plain": [
       "(975, 24)"
      ]
     },
     "execution_count": 35,
     "metadata": {},
     "output_type": "execute_result"
    }
   ],
   "source": [
    "metadatos.shape"
   ]
  },
  {
   "cell_type": "code",
   "execution_count": 36,
   "metadata": {},
   "outputs": [
    {
     "data": {
      "text/plain": [
       "(975, 24)"
      ]
     },
     "execution_count": 36,
     "metadata": {},
     "output_type": "execute_result"
    }
   ],
   "source": [
    "metadatos.dropna(inplace=True)\n",
    "metadatos.shape"
   ]
  },
  {
   "cell_type": "code",
   "execution_count": 28,
   "metadata": {},
   "outputs": [
    {
     "data": {
      "text/html": [
       "<div>\n",
       "<style scoped>\n",
       "    .dataframe tbody tr th:only-of-type {\n",
       "        vertical-align: middle;\n",
       "    }\n",
       "\n",
       "    .dataframe tbody tr th {\n",
       "        vertical-align: top;\n",
       "    }\n",
       "\n",
       "    .dataframe thead th {\n",
       "        text-align: right;\n",
       "    }\n",
       "</style>\n",
       "<table border=\"1\" class=\"dataframe\">\n",
       "  <thead>\n",
       "    <tr style=\"text-align: right;\">\n",
       "      <th></th>\n",
       "      <th>trace_coda_end_sample</th>\n",
       "      <th>source_depth_km</th>\n",
       "      <th>source_latitude_deg</th>\n",
       "      <th>source_longitude_deg</th>\n",
       "      <th>source_magnitude</th>\n",
       "      <th>source_origin_time</th>\n",
       "      <th>trace_p_arrival_sample</th>\n",
       "      <th>trace_p_arrival_time</th>\n",
       "      <th>trace_p_arrival_uncertainty_s</th>\n",
       "      <th>trace_s_arrival_sample</th>\n",
       "      <th>...</th>\n",
       "      <th>station_latitude_deg</th>\n",
       "      <th>station_longitude_deg</th>\n",
       "      <th>station_code</th>\n",
       "      <th>trace_category</th>\n",
       "      <th>trace_name_original</th>\n",
       "      <th>split</th>\n",
       "      <th>trace_name</th>\n",
       "      <th>trace_causal</th>\n",
       "      <th>trace_polarity</th>\n",
       "      <th>ID_poligono</th>\n",
       "    </tr>\n",
       "  </thead>\n",
       "  <tbody>\n",
       "    <tr>\n",
       "      <th>1000</th>\n",
       "      <td>1631.0</td>\n",
       "      <td>5.745947</td>\n",
       "      <td>31.516766</td>\n",
       "      <td>-103.414869</td>\n",
       "      <td>1.912946</td>\n",
       "      <td>2021-08-21 08:18:08</td>\n",
       "      <td>849.0</td>\n",
       "      <td>2021-08-21 08:18:11</td>\n",
       "      <td>0.2</td>\n",
       "      <td>1240.0</td>\n",
       "      <td>...</td>\n",
       "      <td>31.408922</td>\n",
       "      <td>-103.510147</td>\n",
       "      <td>PCOS</td>\n",
       "      <td>earthquake_local</td>\n",
       "      <td>texnet2021qind_PCOS_EV</td>\n",
       "      <td>test</td>\n",
       "      <td>bucket384$24,:3,:6000</td>\n",
       "      <td>unknown</td>\n",
       "      <td>unknown</td>\n",
       "      <td>0.0</td>\n",
       "    </tr>\n",
       "    <tr>\n",
       "      <th>1001</th>\n",
       "      <td>1107.0</td>\n",
       "      <td>7.442676</td>\n",
       "      <td>31.537432</td>\n",
       "      <td>-103.401399</td>\n",
       "      <td>2.407002</td>\n",
       "      <td>2021-08-31 11:57:14</td>\n",
       "      <td>461.0</td>\n",
       "      <td>2021-08-31 11:57:17</td>\n",
       "      <td>0.2</td>\n",
       "      <td>784.0</td>\n",
       "      <td>...</td>\n",
       "      <td>31.408922</td>\n",
       "      <td>-103.510147</td>\n",
       "      <td>PCOS</td>\n",
       "      <td>earthquake_local</td>\n",
       "      <td>texnet2021rbbk_PCOS_EV</td>\n",
       "      <td>train</td>\n",
       "      <td>bucket383$833,:3,:6000</td>\n",
       "      <td>unknown</td>\n",
       "      <td>unknown</td>\n",
       "      <td>0.0</td>\n",
       "    </tr>\n",
       "    <tr>\n",
       "      <th>1002</th>\n",
       "      <td>1289.0</td>\n",
       "      <td>3.920679</td>\n",
       "      <td>31.375737</td>\n",
       "      <td>-103.308035</td>\n",
       "      <td>2.188346</td>\n",
       "      <td>2021-09-03 13:00:41</td>\n",
       "      <td>547.0</td>\n",
       "      <td>2021-09-03 13:00:45</td>\n",
       "      <td>0.3</td>\n",
       "      <td>918.0</td>\n",
       "      <td>...</td>\n",
       "      <td>31.408922</td>\n",
       "      <td>-103.510147</td>\n",
       "      <td>PCOS</td>\n",
       "      <td>earthquake_local</td>\n",
       "      <td>texnet2021rgqa_PCOS_EV</td>\n",
       "      <td>test</td>\n",
       "      <td>bucket384$949,:3,:6000</td>\n",
       "      <td>unknown</td>\n",
       "      <td>unknown</td>\n",
       "      <td>0.0</td>\n",
       "    </tr>\n",
       "    <tr>\n",
       "      <th>1003</th>\n",
       "      <td>1560.0</td>\n",
       "      <td>18.985571</td>\n",
       "      <td>31.435843</td>\n",
       "      <td>-103.261160</td>\n",
       "      <td>2.047352</td>\n",
       "      <td>2022-10-12 09:07:26</td>\n",
       "      <td>718.0</td>\n",
       "      <td>2022-10-12 09:07:31</td>\n",
       "      <td>0.2</td>\n",
       "      <td>1139.0</td>\n",
       "      <td>...</td>\n",
       "      <td>31.408922</td>\n",
       "      <td>-103.510147</td>\n",
       "      <td>PCOS</td>\n",
       "      <td>earthquake_local</td>\n",
       "      <td>texnet2022tzox_PCOS_EV</td>\n",
       "      <td>train</td>\n",
       "      <td>bucket426$611,:3,:6000</td>\n",
       "      <td>unknown</td>\n",
       "      <td>unknown</td>\n",
       "      <td>0.0</td>\n",
       "    </tr>\n",
       "    <tr>\n",
       "      <th>1004</th>\n",
       "      <td>1038.0</td>\n",
       "      <td>6.851392</td>\n",
       "      <td>31.443924</td>\n",
       "      <td>-103.417935</td>\n",
       "      <td>1.855234</td>\n",
       "      <td>2023-02-15 20:29:57</td>\n",
       "      <td>440.0</td>\n",
       "      <td>2023-02-15 20:30:00</td>\n",
       "      <td>0.2</td>\n",
       "      <td>739.0</td>\n",
       "      <td>...</td>\n",
       "      <td>31.408922</td>\n",
       "      <td>-103.510147</td>\n",
       "      <td>PCOS</td>\n",
       "      <td>earthquake_local</td>\n",
       "      <td>texnet2023dfuf_PCOS_EV</td>\n",
       "      <td>train</td>\n",
       "      <td>bucket462$278,:3,:6000</td>\n",
       "      <td>unknown</td>\n",
       "      <td>unknown</td>\n",
       "      <td>0.0</td>\n",
       "    </tr>\n",
       "  </tbody>\n",
       "</table>\n",
       "<p>5 rows × 24 columns</p>\n",
       "</div>"
      ],
      "text/plain": [
       "      trace_coda_end_sample  source_depth_km  source_latitude_deg  \\\n",
       "1000                 1631.0         5.745947            31.516766   \n",
       "1001                 1107.0         7.442676            31.537432   \n",
       "1002                 1289.0         3.920679            31.375737   \n",
       "1003                 1560.0        18.985571            31.435843   \n",
       "1004                 1038.0         6.851392            31.443924   \n",
       "\n",
       "      source_longitude_deg  source_magnitude   source_origin_time  \\\n",
       "1000           -103.414869          1.912946  2021-08-21 08:18:08   \n",
       "1001           -103.401399          2.407002  2021-08-31 11:57:14   \n",
       "1002           -103.308035          2.188346  2021-09-03 13:00:41   \n",
       "1003           -103.261160          2.047352  2022-10-12 09:07:26   \n",
       "1004           -103.417935          1.855234  2023-02-15 20:29:57   \n",
       "\n",
       "      trace_p_arrival_sample trace_p_arrival_time  \\\n",
       "1000                   849.0  2021-08-21 08:18:11   \n",
       "1001                   461.0  2021-08-31 11:57:17   \n",
       "1002                   547.0  2021-09-03 13:00:45   \n",
       "1003                   718.0  2022-10-12 09:07:31   \n",
       "1004                   440.0  2023-02-15 20:30:00   \n",
       "\n",
       "      trace_p_arrival_uncertainty_s  trace_s_arrival_sample  ...  \\\n",
       "1000                            0.2                  1240.0  ...   \n",
       "1001                            0.2                   784.0  ...   \n",
       "1002                            0.3                   918.0  ...   \n",
       "1003                            0.2                  1139.0  ...   \n",
       "1004                            0.2                   739.0  ...   \n",
       "\n",
       "     station_latitude_deg  station_longitude_deg station_code  \\\n",
       "1000            31.408922            -103.510147         PCOS   \n",
       "1001            31.408922            -103.510147         PCOS   \n",
       "1002            31.408922            -103.510147         PCOS   \n",
       "1003            31.408922            -103.510147         PCOS   \n",
       "1004            31.408922            -103.510147         PCOS   \n",
       "\n",
       "        trace_category     trace_name_original  split              trace_name  \\\n",
       "1000  earthquake_local  texnet2021qind_PCOS_EV   test   bucket384$24,:3,:6000   \n",
       "1001  earthquake_local  texnet2021rbbk_PCOS_EV  train  bucket383$833,:3,:6000   \n",
       "1002  earthquake_local  texnet2021rgqa_PCOS_EV   test  bucket384$949,:3,:6000   \n",
       "1003  earthquake_local  texnet2022tzox_PCOS_EV  train  bucket426$611,:3,:6000   \n",
       "1004  earthquake_local  texnet2023dfuf_PCOS_EV  train  bucket462$278,:3,:6000   \n",
       "\n",
       "     trace_causal trace_polarity ID_poligono  \n",
       "1000      unknown        unknown         0.0  \n",
       "1001      unknown        unknown         0.0  \n",
       "1002      unknown        unknown         0.0  \n",
       "1003      unknown        unknown         0.0  \n",
       "1004      unknown        unknown         0.0  \n",
       "\n",
       "[5 rows x 24 columns]"
      ]
     },
     "execution_count": 28,
     "metadata": {},
     "output_type": "execute_result"
    }
   ],
   "source": [
    "metadatos.tail()"
   ]
  },
  {
   "cell_type": "code",
   "execution_count": 20,
   "metadata": {},
   "outputs": [
    {
     "data": {
      "text/plain": [
       "Index(['trace_coda_end_sample', 'source_depth_km', 'source_latitude_deg',\n",
       "       'source_longitude_deg', 'source_magnitude', 'source_origin_time',\n",
       "       'trace_p_arrival_sample', 'trace_p_arrival_time',\n",
       "       'trace_p_arrival_uncertainty_s', 'trace_s_arrival_sample',\n",
       "       'trace_s_arrival_time', 'trace_s_arrival_uncertainty_s', 'trace_snr_db',\n",
       "       'station_elevation_m', 'station_latitude_deg', 'station_longitude_deg',\n",
       "       'station_code', 'trace_category', 'trace_name_original', 'split',\n",
       "       'trace_name', 'trace_causal', 'trace_polarity', 'ID_poligono'],\n",
       "      dtype='object')"
      ]
     },
     "execution_count": 20,
     "metadata": {},
     "output_type": "execute_result"
    }
   ],
   "source": [
    "metadatos.columns"
   ]
  },
  {
   "cell_type": "code",
   "execution_count": 40,
   "metadata": {},
   "outputs": [],
   "source": [
    "metadatos['ID_poligono'] = metadatos['ID_poligono'].astype(int)"
   ]
  },
  {
   "cell_type": "code",
   "execution_count": 41,
   "metadata": {},
   "outputs": [
    {
     "data": {
      "text/plain": [
       "ID_poligono\n",
       "2    361\n",
       "1    360\n",
       "3    203\n",
       "0     51\n",
       "Name: count, dtype: int64"
      ]
     },
     "execution_count": 41,
     "metadata": {},
     "output_type": "execute_result"
    }
   ],
   "source": [
    "metadatos['ID_poligono'].value_counts()"
   ]
  },
  {
   "cell_type": "code",
   "execution_count": 34,
   "metadata": {},
   "outputs": [],
   "source": [
    "#Ubicar co una estrella/cuadrada estacion PCOS:\n",
    "\n",
    "# Lat: 31.408922          lon: -103.510147"
   ]
  },
  {
   "cell_type": "code",
   "execution_count": 7,
   "metadata": {},
   "outputs": [
    {
     "data": {
      "text/plain": [
       "<matplotlib.lines.Line2D at 0x1681f1d30>"
      ]
     },
     "execution_count": 7,
     "metadata": {},
     "output_type": "execute_result"
    },
    {
     "data": {
      "image/png": "[encoded data removed]",
      "text/plain": [
       "<Figure size 640x480 with 1 Axes>"
      ]
     },
     "metadata": {},
     "output_type": "display_data"
    }
   ],
   "source": [
    "ax = metadatos.plot(x='source_longitude_deg',y='source_latitude_deg',kind='scatter')\n",
    "ax.scatter(x=[-103.510147], y=[31.408922], color='red', s=100, edgecolor='black', marker='*', zorder=5)\n",
    "ax.axvline(x=-103.510147,c='g')\n",
    "ax.axhline(y=31.408922,c='g')\n"
   ]
  },
  {
   "cell_type": "markdown",
   "metadata": {},
   "source": [
    "### Asignar las clases a los eventos"
   ]
  },
  {
   "cell_type": "code",
   "execution_count": 36,
   "metadata": {},
   "outputs": [],
   "source": [
    "metadatos.loc[(metadatos['source_longitude_deg']>= -103.510147) & (metadatos['source_latitude_deg']>=31.408922),'ID_poligono'] = 0\n",
    "metadatos.loc[(metadatos['source_longitude_deg']<= -103.510147) & (metadatos['source_latitude_deg']>=31.408922),'ID_poligono'] = 1\n",
    "metadatos.loc[(metadatos['source_longitude_deg']<= -103.510147) & (metadatos['source_latitude_deg']<=31.408922),'ID_poligono'] = 2\n",
    "metadatos.loc[(metadatos['source_longitude_deg']>= -103.510147) & (metadatos['source_latitude_deg']<=31.408922),'ID_poligono'] = 3\n"
   ]
  },
  {
   "cell_type": "code",
   "execution_count": 37,
   "metadata": {},
   "outputs": [
    {
     "data": {
      "text/plain": [
       "ID_poligono\n",
       "1    450\n",
       "3    349\n",
       "2    192\n",
       "0     55\n",
       "Name: count, dtype: int64"
      ]
     },
     "execution_count": 37,
     "metadata": {},
     "output_type": "execute_result"
    }
   ],
   "source": [
    "metadatos['ID_poligono'].value_counts()"
   ]
  },
  {
   "cell_type": "markdown",
   "metadata": {},
   "source": [
    "### Restar 1 a todas las clases"
   ]
  },
  {
   "cell_type": "code",
   "execution_count": 43,
   "metadata": {},
   "outputs": [
    {
     "data": {
      "text/plain": [
       "ID_poligono\n",
       "-1    254\n",
       " 3    210\n",
       " 2    193\n",
       " 0    139\n",
       " 5    105\n",
       " 4     56\n",
       " 6     56\n",
       " 1     33\n",
       "Name: count, dtype: int64"
      ]
     },
     "execution_count": 43,
     "metadata": {},
     "output_type": "execute_result"
    }
   ],
   "source": [
    "metadatos['ID_poligono'] = metadatos['ID_poligono']-1\n",
    "metadatos['ID_poligono'].value_counts()"
   ]
  },
  {
   "cell_type": "markdown",
   "metadata": {},
   "source": [
    "### Cambiar proporcion de train test dev"
   ]
  },
  {
   "cell_type": "code",
   "execution_count": 29,
   "metadata": {},
   "outputs": [
    {
     "data": {
      "text/plain": [
       "split\n",
       "train    861\n",
       "dev      114\n",
       "Name: count, dtype: int64"
      ]
     },
     "execution_count": 29,
     "metadata": {},
     "output_type": "execute_result"
    }
   ],
   "source": [
    "metadatos.loc[metadatos['split']=='test','split'] = 'train'\n",
    "metadatos['split'].value_counts()"
   ]
  },
  {
   "cell_type": "markdown",
   "metadata": {},
   "source": [
    "#### Cambiar numero de dev"
   ]
  },
  {
   "cell_type": "code",
   "execution_count": 30,
   "metadata": {},
   "outputs": [
    {
     "data": {
      "text/plain": [
       "split\n",
       "train    914\n",
       "dev       61\n",
       "Name: count, dtype: int64"
      ]
     },
     "execution_count": 30,
     "metadata": {},
     "output_type": "execute_result"
    }
   ],
   "source": [
    "indices_a_modificar = metadatos[metadatos['split'] == 'dev'].index\n",
    "# Establecer la cantidad de valores a cambiar\n",
    "num_cambios = 53\n",
    "# Seleccionar índices al azar para cambiar\n",
    "indices_aleatorios = np.random.choice(indices_a_modificar, size=num_cambios, replace=False)\n",
    "\n",
    "# Realizar el cambio en esos índices seleccionados\n",
    "metadatos.loc[indices_aleatorios, 'split'] = 'train'\n",
    "\n",
    "metadatos['split'].value_counts()"
   ]
  },
  {
   "cell_type": "markdown",
   "metadata": {},
   "source": [
    "### Guardar en metadatos"
   ]
  },
  {
   "cell_type": "code",
   "execution_count": 42,
   "metadata": {},
   "outputs": [],
   "source": [
    "#Solo correr una vez\n",
    "metadatos.to_csv(\"/Users/lamb/.seisbench/datasets/txed/metadata.csv\",index=False)"
   ]
  },
  {
   "cell_type": "code",
   "execution_count": null,
   "metadata": {},
   "outputs": [],
   "source": []
  }
 ],
 "metadata": {
  "kernelspec": {
   "display_name": "seisbench_joel",
   "language": "python",
   "name": "python3"
  },
  "language_info": {
   "codemirror_mode": {
    "name": "ipython",
    "version": 3
   },
   "file_extension": ".py",
   "mimetype": "text/x-python",
   "name": "python",
   "nbconvert_exporter": "python",
   "pygments_lexer": "ipython3",
   "version": "3.12.5"
  }
 },
 "nbformat": 4,
 "nbformat_minor": 2
}
